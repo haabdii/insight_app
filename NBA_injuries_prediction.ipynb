{
 "cells": [
  {
   "cell_type": "markdown",
   "metadata": {},
   "source": [
    "## Preprocessing and Data Cleaning "
   ]
  },
  {
   "cell_type": "markdown",
   "metadata": {},
   "source": [
    "Here, I load the injuries and the players's features datasets, clean them, join them and prepare the resulting dataset for analysis.  "
   ]
  },
  {
   "cell_type": "code",
   "execution_count": 25,
   "metadata": {},
   "outputs": [],
   "source": [
    "import pandas as pd"
   ]
  },
  {
   "cell_type": "code",
   "execution_count": 26,
   "metadata": {},
   "outputs": [],
   "source": [
    "# loading the injuries dataset\n",
    "\n",
    "df_injuries = pd.read_csv('injuries.csv')"
   ]
  },
  {
   "cell_type": "code",
   "execution_count": 27,
   "metadata": {},
   "outputs": [],
   "source": [
    "# excluding the knee injuries from other injuries in the df_injuries dataframe\n",
    "\n",
    "injuries_list = []\n",
    "for i in range(len(df_injuries['Notes'].value_counts().index)):\n",
    "    injuries_list.append(df_injuries['Notes'].value_counts().index[i])\n",
    "\n",
    "injuries_mapping = {}\n",
    "for i in range(len(df_injuries['Notes'].value_counts().index)):\n",
    "    if 'knee' in df_injuries['Notes'].value_counts().index[i]:\n",
    "        injuries_mapping.update({df_injuries['Notes'].value_counts().index[i]: \\\n",
    "                                 df_injuries['Notes'].value_counts().index[i]})\n",
    "        \n",
    "df_injuries['Notes'] = df_injuries.Notes.map(injuries_mapping)\n",
    "\n",
    "df_injuries.drop(['Acquired', 'Team'], axis=1, inplace=True)\n",
    "\n",
    "df_injuries.dropna(inplace=True)\n",
    "df_injuries.reset_index(inplace=True)\n",
    "\n",
    "df_injuries['injury_type'] = df_injuries['Notes']\n",
    "df_injuries.drop(['index', 'Notes'], axis=1, inplace=True)\n",
    "df_injuries.rename(columns={\"Date\": \"date_of_injury\", \"Relinquised\": \"name\"}, inplace=True)"
   ]
  },
  {
   "cell_type": "code",
   "execution_count": 28,
   "metadata": {},
   "outputs": [],
   "source": [
    "# creating a list of players with knee injuries \n",
    "\n",
    "injured_player_full_names = df_injuries.groupby('name' )['injury_type'].count().reset_index()['name'].tolist()"
   ]
  },
  {
   "cell_type": "code",
   "execution_count": 29,
   "metadata": {},
   "outputs": [],
   "source": [
    "# removing duplicate injuries \n",
    "\n",
    "duplicate_injuries_list = []\n",
    "for player in injured_player_full_names:\n",
    "    temp_df = df_injuries[df_injuries['name'] == player]\n",
    "    for i in range(len(temp_df)):\n",
    "        if i > 0:\n",
    "            a = pd.to_datetime(temp_df.iloc[i-1]['date_of_injury'])\n",
    "            b = pd.to_datetime(temp_df.iloc[i]['date_of_injury'])\n",
    "            if (b-a).days < 20:\n",
    "                duplicate_injuries_list.append(temp_df.iloc[i].name)\n",
    "                \n",
    "df_injuries.drop(duplicate_injuries_list, inplace=True)"
   ]
  },
  {
   "cell_type": "code",
   "execution_count": 30,
   "metadata": {},
   "outputs": [],
   "source": [
    "# Extracting the year of the injury in the injuries dataframe \n",
    "\n",
    "df_injuries['year_of_injury'] = df_injuries.date_of_injury.apply(lambda x: x.split('/')[2])"
   ]
  },
  {
   "cell_type": "code",
   "execution_count": 31,
   "metadata": {},
   "outputs": [],
   "source": [
    "# setting the injury columns for each year from 2010 to 2018 in the injuries dataframe\n",
    "\n",
    "df_injuries['injury_10'] = df_injuries.year_of_injury.apply(lambda x: 1 if x=='10' else 0)\n",
    "df_injuries['injury_11'] = df_injuries.year_of_injury.apply(lambda x: 1 if x=='11' else 0)\n",
    "df_injuries['injury_12'] = df_injuries.year_of_injury.apply(lambda x: 1 if x=='12' else 0)\n",
    "df_injuries['injury_13'] = df_injuries.year_of_injury.apply(lambda x: 1 if x=='13' else 0)\n",
    "df_injuries['injury_14'] = df_injuries.year_of_injury.apply(lambda x: 1 if x=='14' else 0)\n",
    "df_injuries['injury_15'] = df_injuries.year_of_injury.apply(lambda x: 1 if x=='15' else 0)\n",
    "df_injuries['injury_16'] = df_injuries.year_of_injury.apply(lambda x: 1 if x=='16' else 0)\n",
    "df_injuries['injury_17'] = df_injuries.year_of_injury.apply(lambda x: 1 if x=='17' else 0)\n",
    "df_injuries['injury_18'] = df_injuries.year_of_injury.apply(lambda x: 1 if x=='18' else 0)"
   ]
  },
  {
   "cell_type": "code",
   "execution_count": 32,
   "metadata": {},
   "outputs": [],
   "source": [
    "# formatting the name in the df_injuries dataframe \n",
    "\n",
    "df_injuries['Name'] =\\\n",
    "df_injuries.name.apply(lambda x: x.split()[0][0]+x.split()[0][1]+' '+x.split()[1] \\\n",
    "if len(x.split()[0]) <= 2 else x.split()[0][0]+x.split()[0][1]+x.split()[0][2]+' '+x.split()[1])"
   ]
  },
  {
   "cell_type": "code",
   "execution_count": 33,
   "metadata": {},
   "outputs": [],
   "source": [
    "# finding the number of appearances on the injury list for each player \n",
    "\n",
    "df_grouped_injuries = \\\n",
    "df_injuries.groupby('Name' )['injury_10', 'injury_11', 'injury_12','injury_13', \\\n",
    "                             'injury_14', 'injury_15', 'injury_16', 'injury_17', 'injury_18'].sum().reset_index()"
   ]
  },
  {
   "cell_type": "code",
   "execution_count": 34,
   "metadata": {},
   "outputs": [],
   "source": [
    "# loading df_players_1 and df_players_2 dataframe \n",
    "\n",
    "df_players_1 = pd.read_csv('players_1.csv')\n",
    "df_players_2 = pd.read_csv('players_2.csv')\n",
    "\n",
    "df_players_1.drop(['Unnamed: 0', 'collage', 'born', 'birth_city', 'birth_state'], axis=1, inplace=True)\n",
    "df_players_2.drop(['height', 'weight', 'college'], axis=1, inplace=True)\n",
    "\n",
    "df_players_1.dropna(inplace=True)\n",
    "df_players_1.reset_index(inplace=True)\n",
    "\n",
    "df_players_2.dropna(inplace=True)\n",
    "df_players_2.reset_index(inplace=True)\n",
    "\n",
    "# creating a name column in players_1 dataset and players_2 dataset with the proper name format:  \n",
    "\n",
    "df_players_1['Name'] = df_players_1.Player.apply(lambda x: x.split()[0][0]+x.split()[0][1]+' '+x.split()[1] \\\n",
    "if len(x.split()[0]) <= 2 else x.split()[0][0]+x.split()[0][1]+x.split()[0][2]+' '+x.split()[1])\n",
    "df_players_2['Name'] = df_players_2.name.apply(lambda x: x.split()[0][0]+x.split()[0][1]+' '+x.split()[1] \\\n",
    "if len(x.split()[0]) <= 2 else x.split()[0][0]+x.split()[0][1]+x.split()[0][2]+' '+x.split()[1])\n",
    "\n",
    "df_players_1.drop(['index', 'Player'], axis=1, inplace=True)\n",
    "df_players_2.drop(['index', 'name'], axis=1, inplace=True)"
   ]
  },
  {
   "cell_type": "code",
   "execution_count": 35,
   "metadata": {},
   "outputs": [],
   "source": [
    "# creating a list of injured players names with the proper format\n",
    "\n",
    "injured_player_names = df_injuries.Name.unique()"
   ]
  },
  {
   "cell_type": "code",
   "execution_count": 36,
   "metadata": {},
   "outputs": [],
   "source": [
    "injured_player_height = []\n",
    "injured_player_weight = []\n",
    "injured_player_year_start = []\n",
    "injured_player_year_end = []\n",
    "injured_player_position = []\n",
    "injured_player_dob = []\n",
    "injured_player_names_update = []\n",
    "\n",
    "# creating lists of injured players/features/injuries to construct a single dataframe \n",
    "\n",
    "for i in range(len(injured_player_names)):\n",
    "    if (injured_player_names[i] in df_players_1['Name'].tolist()) and \\\n",
    "    (injured_player_names[i] in df_players_2['Name'].tolist()):\n",
    "        \n",
    "        injured_player_names_update.append(injured_player_names[i])\n",
    "        \n",
    "        temp_index_1 = df_players_1.index[df_players_1['Name'] == injured_player_names[i]][0]\n",
    "        temp_index_2 = df_players_2.index[df_players_2['Name'] == injured_player_names[i]][0]\n",
    "        \n",
    "        injured_player_height.append(df_players_1.iloc[temp_index_1]['height'])\n",
    "        injured_player_weight.append(df_players_1.iloc[temp_index_1]['weight'])\n",
    "        \n",
    "        injured_player_year_start.append(df_players_2.iloc[temp_index_2]['year_start'])\n",
    "        injured_player_year_end.append(df_players_2.iloc[temp_index_2]['year_end'])\n",
    "        injured_player_position.append(df_players_2.iloc[temp_index_2]['position'])\n",
    "        injured_player_dob.append(df_players_2.iloc[temp_index_2]['birth_date'])       "
   ]
  },
  {
   "cell_type": "code",
   "execution_count": 37,
   "metadata": {},
   "outputs": [],
   "source": [
    "# creating a list including the number of injuries in each year for each player \n",
    "\n",
    "injured_player_injury_10 = []\n",
    "injured_player_injury_11 = []\n",
    "injured_player_injury_12 = []\n",
    "injured_player_injury_13 = []\n",
    "injured_player_injury_14 = []\n",
    "injured_player_injury_15 = []\n",
    "injured_player_injury_16 = []\n",
    "injured_player_injury_17 = []\n",
    "injured_player_injury_18 = []\n",
    "\n",
    "for i in range(len(injured_player_names_update)):\n",
    "    temp_index = df_grouped_injuries.index[df_grouped_injuries['Name'] == injured_player_names_update[i]][0]\n",
    "    \n",
    "    injured_player_injury_10.append(df_grouped_injuries.iloc[temp_index]['injury_10'])\n",
    "    injured_player_injury_11.append(df_grouped_injuries.iloc[temp_index]['injury_11'])\n",
    "    injured_player_injury_12.append(df_grouped_injuries.iloc[temp_index]['injury_12'])\n",
    "    injured_player_injury_13.append(df_grouped_injuries.iloc[temp_index]['injury_13'])\n",
    "    injured_player_injury_14.append(df_grouped_injuries.iloc[temp_index]['injury_14'])\n",
    "    injured_player_injury_15.append(df_grouped_injuries.iloc[temp_index]['injury_15'])\n",
    "    injured_player_injury_16.append(df_grouped_injuries.iloc[temp_index]['injury_16'])\n",
    "    injured_player_injury_17.append(df_grouped_injuries.iloc[temp_index]['injury_17'])\n",
    "    injured_player_injury_18.append(df_grouped_injuries.iloc[temp_index]['injury_18'])"
   ]
  },
  {
   "cell_type": "code",
   "execution_count": 38,
   "metadata": {},
   "outputs": [],
   "source": [
    "# creating a list of uninjured players\n",
    "\n",
    "uninjured_player_names = []\n",
    "\n",
    "for i in range(df_players_2.shape[0]):\n",
    "    if (df_players_2.iloc[i]['Name'] not in injured_player_names_update) \\\n",
    "    and (df_players_2.iloc[i]['year_end'] >= 2010) and \\\n",
    "    (df_players_2.iloc[i]['Name'] in df_players_1['Name'].tolist()):\n",
    "        uninjured_player_names.append(df_players_2.iloc[i]['Name'])   \n",
    "        \n",
    "uninjured_player_height = []\n",
    "uninjured_player_weight = []\n",
    "uninjured_player_year_start = []\n",
    "uninjured_player_year_end = []\n",
    "uninjured_player_position = []\n",
    "uninjured_player_dob = []\n",
    "\n",
    "for i in range(len(uninjured_player_names)):\n",
    "        temp_index_1 = df_players_1.index[df_players_1['Name'] == uninjured_player_names[i]][0]\n",
    "        temp_index_2 = df_players_2.index[df_players_2['Name'] == uninjured_player_names[i]][0]\n",
    "        \n",
    "        uninjured_player_height.append(df_players_1.iloc[temp_index_1]['height'])\n",
    "        uninjured_player_weight.append(df_players_1.iloc[temp_index_1]['weight'])\n",
    "        \n",
    "        uninjured_player_year_start.append(df_players_2.iloc[temp_index_2]['year_start'])\n",
    "        uninjured_player_year_end.append(df_players_2.iloc[temp_index_2]['year_end'])\n",
    "        uninjured_player_position.append(df_players_2.iloc[temp_index_2]['position'])\n",
    "        uninjured_player_dob.append(df_players_2.iloc[temp_index_2]['birth_date'])\n",
    "        \n",
    "uninjured_player_injury_10 = [0 for i in range(len(uninjured_player_names))]\n",
    "uninjured_player_injury_11 = [0 for i in range(len(uninjured_player_names))]\n",
    "uninjured_player_injury_12 = [0 for i in range(len(uninjured_player_names))]\n",
    "uninjured_player_injury_13 = [0 for i in range(len(uninjured_player_names))]\n",
    "uninjured_player_injury_14 = [0 for i in range(len(uninjured_player_names))]\n",
    "uninjured_player_injury_15 = [0 for i in range(len(uninjured_player_names))]\n",
    "uninjured_player_injury_16 = [0 for i in range(len(uninjured_player_names))]\n",
    "uninjured_player_injury_17 = [0 for i in range(len(uninjured_player_names))]\n",
    "uninjured_player_injury_18 = [0 for i in range(len(uninjured_player_names))]"
   ]
  },
  {
   "cell_type": "code",
   "execution_count": 39,
   "metadata": {},
   "outputs": [],
   "source": [
    "# creating a dictionary including all the injured and uninjured players data \n",
    "\n",
    "player_injury_dict = {'name': injured_player_names_update + uninjured_player_names ,\\\n",
    "                      'injury_10': injured_player_injury_10 + uninjured_player_injury_10, \\\n",
    "                      'injury_11': injured_player_injury_11 + uninjured_player_injury_11, \\\n",
    "                      'injury_12': injured_player_injury_12 + uninjured_player_injury_12, \\\n",
    "                      'injury_13': injured_player_injury_13 + uninjured_player_injury_13, \\\n",
    "                      'injury_14': injured_player_injury_14 + uninjured_player_injury_14, \\\n",
    "                      'injury_15': injured_player_injury_15 + uninjured_player_injury_15, \\\n",
    "                      'injury_16': injured_player_injury_16 + uninjured_player_injury_16, \\\n",
    "                      'injury_17': injured_player_injury_17 + uninjured_player_injury_17, \\\n",
    "                      'injury_18': injured_player_injury_18 + uninjured_player_injury_18, \\\n",
    "                      'height' : injured_player_height + uninjured_player_height, \\\n",
    "                      'weight' : injured_player_weight + uninjured_player_weight, \\\n",
    "                      'year_start' : injured_player_year_start + uninjured_player_year_start, \\\n",
    "                      'year_end' : injured_player_year_end + uninjured_player_year_end, \\\n",
    "                      'position' : injured_player_position + uninjured_player_position, \\\n",
    "                      'birth_date' : injured_player_dob + uninjured_player_dob}"
   ]
  },
  {
   "cell_type": "code",
   "execution_count": 40,
   "metadata": {},
   "outputs": [],
   "source": [
    "# creating a single dataframe including all the injured and uninjured players data \n",
    "\n",
    "df_player_injury = pd.DataFrame.from_dict(player_injury_dict)"
   ]
  },
  {
   "cell_type": "code",
   "execution_count": 41,
   "metadata": {},
   "outputs": [],
   "source": [
    "# Removing errorenous info\n",
    "\n",
    "buggy_indexes = []\n",
    "for i in range(df_player_injury.shape[0]):\n",
    "    if df_player_injury.iloc[i]['year_end'] < 2010:\n",
    "        buggy_indexes.append(i)\n",
    "\n",
    "df_player_injury.drop(buggy_indexes, inplace=True)"
   ]
  },
  {
   "cell_type": "code",
   "execution_count": 42,
   "metadata": {},
   "outputs": [],
   "source": [
    "# adding columns indicating whether or not a player played in a certain year \n",
    "\n",
    "df_player_injury['played_10'] = df_player_injury.apply(lambda row: 1 if (row['year_start']<=2010) and \\\n",
    "                                                       (row['year_end']>=2010) else 0, axis = 1)\n",
    "\n",
    "df_player_injury['played_11'] = df_player_injury.apply(lambda row: 1 if (row['year_start']<=2011) and \\\n",
    "                                                       (row['year_end']>=2011) else 0, axis = 1)\n",
    "\n",
    "df_player_injury['played_12'] = df_player_injury.apply(lambda row: 1 if (row['year_start']<=2012) and \\\n",
    "                                                       (row['year_end']>=2012) else 0, axis = 1)\n",
    "\n",
    "df_player_injury['played_13'] = df_player_injury.apply(lambda row: 1 if (row['year_start']<=2013) and \\\n",
    "                                                       (row['year_end']>=2013) else 0, axis = 1)\n",
    "\n",
    "df_player_injury['played_14'] = df_player_injury.apply(lambda row: 1 if (row['year_start']<=2014) and \\\n",
    "                                                       (row['year_end']>=2014) else 0, axis = 1)\n",
    "\n",
    "df_player_injury['played_15'] = df_player_injury.apply(lambda row: 1 if (row['year_start']<=2015) and \\\n",
    "                                                       (row['year_end']>=2015) else 0, axis = 1)\n",
    "\n",
    "df_player_injury['played_16'] = df_player_injury.apply(lambda row: 1 if (row['year_start']<=2016) and \\\n",
    "                                                       (row['year_end']>=2016) else 0, axis = 1)\n",
    "\n",
    "df_player_injury['played_17'] = df_player_injury.apply(lambda row: 1 if (row['year_start']<=2017) and \\\n",
    "                                                       (row['year_end']>=2017) else 0, axis = 1)\n",
    "\n",
    "df_player_injury['played_18'] = df_player_injury.apply(lambda row: 1 if (row['year_start']<=2018) and \\\n",
    "                                                       (row['year_end']>=2018) else 0, axis = 1)"
   ]
  },
  {
   "cell_type": "code",
   "execution_count": 43,
   "metadata": {},
   "outputs": [],
   "source": [
    "# digitizing the position columns \n",
    "\n",
    "df_player_injury['G_position'] = df_player_injury.position.apply(lambda x: 1 if ('G' in x.split()) else 0)\n",
    "df_player_injury['F_position'] = df_player_injury.position.apply(lambda x: 1 if ('F' in x.split()) else 0)\n",
    "df_player_injury['C_position'] = df_player_injury.position.apply(lambda x: 1 if ('C' in x.split()) else 0)"
   ]
  },
  {
   "cell_type": "code",
   "execution_count": 44,
   "metadata": {},
   "outputs": [],
   "source": [
    "# adding a column capturing the number of years played before 2010 \n",
    "\n",
    "df_player_injury['years_played_before_2010'] = df_player_injury['year_start'].apply(lambda x: (2010-x) if x <2010 else 0)"
   ]
  },
  {
   "cell_type": "code",
   "execution_count": 45,
   "metadata": {},
   "outputs": [],
   "source": [
    "# adding the age at 2010 column \n",
    "\n",
    "df_player_injury['year_of_birth'] = df_player_injury['birth_date'].apply(lambda x: 1900+int(x.split()[0][-2:]))\n",
    "df_player_injury['age_at_2010'] = df_player_injury.year_of_birth.apply(lambda x: 2010-x)\n",
    "\n",
    "df_player_injury.reset_index(inplace=True)"
   ]
  },
  {
   "cell_type": "markdown",
   "metadata": {},
   "source": [
    "## Data Analysis "
   ]
  },
  {
   "cell_type": "markdown",
   "metadata": {},
   "source": [
    "Here, I show some interesting findings from the data. The median injured player has played four years longer than the median uninjured player. Also, the risk of re-injury is consitently higher than the risk of injury. "
   ]
  },
  {
   "cell_type": "code",
   "execution_count": 46,
   "metadata": {},
   "outputs": [
    {
     "data": {
      "text/plain": [
       "(0, 12)"
      ]
     },
     "execution_count": 46,
     "metadata": {},
     "output_type": "execute_result"
    },
    {
     "data": {
      "image/png": "[encoded data removed]",
      "text/plain": [
       "<Figure size 432x288 with 1 Axes>"
      ]
     },
     "metadata": {
      "needs_background": "light"
     },
     "output_type": "display_data"
    }
   ],
   "source": [
    "# visualizing the age distributions of number years played for both \n",
    "# injured and uninjured players -- one of the most important features  \n",
    "\n",
    "injured_players_number_years_played = []\n",
    "uninjured_players_number_years_played = []\n",
    "\n",
    "df_player_injury['total_injuries'] = \\\n",
    "df_player_injury.apply(lambda row: row['injury_10']+row['injury_11']+row['injury_12']+\\\n",
    "                      row['injury_13']+row['injury_14']+row['injury_15']+row['injury_16']+\\\n",
    "                      row['injury_17']+row['injury_18'], axis=1)\n",
    "\n",
    "for i in range(df_player_injury.shape[0]):\n",
    "    if df_player_injury.iloc[i]['total_injuries'] > 0:\n",
    "        number_years_played = df_player_injury.iloc[i]['year_end'] - \\\n",
    "        df_player_injury.iloc[i]['year_start']\n",
    "        injured_players_number_years_played.append(number_years_played+1)\n",
    "    else:\n",
    "        number_years_played = df_player_injury.iloc[i]['year_end'] - \\\n",
    "        df_player_injury.iloc[i]['year_start']\n",
    "        uninjured_players_number_years_played.append(number_years_played+1)\n",
    "        \n",
    "import matplotlib.pyplot as plt\n",
    "plt.hist(uninjured_players_number_years_played, bins = [i+1 for i in range(12)], alpha = 0.6, label='No knee injury', color = 'blue')\n",
    "plt.hist(injured_players_number_years_played, bins = [i+1 for i in range(12)], alpha=0.6, label='knee injury', color = 'orange')\n",
    "plt.xlabel('Years Played')\n",
    "plt.ylabel('Number of Players')\n",
    "plt.legend(loc='upper right')\n",
    "plt.rcParams.update({'font.size': 15})\n",
    "plt.xlim((0, 12))"
   ]
  },
  {
   "cell_type": "code",
   "execution_count": 47,
   "metadata": {},
   "outputs": [
    {
     "data": {
      "text/plain": [
       "Text(0.5, 1.0, 'Risk of injury/re-injury')"
      ]
     },
     "execution_count": 47,
     "metadata": {},
     "output_type": "execute_result"
    },
    {
     "data": {
      "image/png": "[encoded data removed]",
      "text/plain": [
       "<Figure size 432x288 with 1 Axes>"
      ]
     },
     "metadata": {
      "needs_background": "light"
     },
     "output_type": "display_data"
    }
   ],
   "source": [
    "# visualizing the risk of injury vs. the risk of re-injury\n",
    "\n",
    "df_player_injury['total_years_played'] = \\\n",
    "df_player_injury.apply(lambda row: row['played_10']+row['played_11']+row['played_12']+\\\n",
    "                      row['played_13']+row['played_14']+row['played_15']+row['played_16']+\\\n",
    "                      row['played_17']+row['played_18'], axis=1)\n",
    "\n",
    "df_player_injury['total_number_injuries'] = \\\n",
    "df_player_injury.apply(lambda row: row['injury_10']+row['injury_11']+row['injury_12']+\\\n",
    "                      row['injury_13']+row['injury_14']+row['injury_15']+row['injury_16']+\\\n",
    "                      row['injury_17']+row['injury_18'], axis=1)\n",
    "\n",
    "number_injuries_list = df_player_injury['total_number_injuries'].tolist()\n",
    "\n",
    "years_played_list = df_player_injury['total_years_played'].tolist()\n",
    "\n",
    "year_start_list = df_player_injury['year_start'].tolist()\n",
    "\n",
    "injury_risk = []\n",
    "re_injury_risk = []\n",
    "for year in range(1, 10):\n",
    "    all_counter = 0\n",
    "    all_injured_counter = 0\n",
    "    all_re_injured_counter = 0\n",
    "    for i in range(len(number_injuries_list)):\n",
    "        if years_played_list[i] == year and year_start_list[i] >= 2010 :\n",
    "            all_counter += 1\n",
    "            if (number_injuries_list[i] > 0):\n",
    "                all_injured_counter += 1\n",
    "            if (number_injuries_list[i] > 1):\n",
    "                all_re_injured_counter += 1\n",
    "                \n",
    "    injury_risk.append(all_injured_counter/all_counter)\n",
    "    re_injury_risk.append(all_re_injured_counter/all_injured_counter)\n",
    "    \n",
    "import matplotlib.pyplot as plt\n",
    "plt.scatter(list(range(1, 10)), injury_risk, color = 'blue')\n",
    "plt.scatter(list(range(1, 10)), re_injury_risk, color = 'red')\n",
    "labels = ['Injury', 'Re-injury']\n",
    "plt.rcParams.update({'font.size': 15})\n",
    "plt.legend(labels) \n",
    "plt.xlabel('Years Played')\n",
    "plt.ylabel('Risk')\n",
    "plt.title('Risk of injury/re-injury')"
   ]
  },
  {
   "cell_type": "markdown",
   "metadata": {},
   "source": [
    "## Modeling"
   ]
  },
  {
   "cell_type": "markdown",
   "metadata": {},
   "source": [
    "Here, I build a Logistic Regression model that perfoms 2.5x better than random guess. "
   ]
  },
  {
   "cell_type": "code",
   "execution_count": 48,
   "metadata": {},
   "outputs": [
    {
     "name": "stderr",
     "output_type": "stream",
     "text": [
      "/miniconda3/lib/python3.7/site-packages/sklearn/metrics/classification.py:1437: UndefinedMetricWarning: F-score is ill-defined and being set to 0.0 due to no predicted samples.\n",
      "  'precision', 'predicted', average, warn_for)\n",
      "/miniconda3/lib/python3.7/site-packages/sklearn/metrics/classification.py:1437: UndefinedMetricWarning: F-score is ill-defined and being set to 0.0 due to no predicted samples.\n",
      "  'precision', 'predicted', average, warn_for)\n",
      "/miniconda3/lib/python3.7/site-packages/sklearn/metrics/classification.py:1437: UndefinedMetricWarning: F-score is ill-defined and being set to 0.0 due to no predicted samples.\n",
      "  'precision', 'predicted', average, warn_for)\n",
      "/miniconda3/lib/python3.7/site-packages/sklearn/metrics/classification.py:1437: UndefinedMetricWarning: F-score is ill-defined and being set to 0.0 due to no predicted samples.\n",
      "  'precision', 'predicted', average, warn_for)\n",
      "/miniconda3/lib/python3.7/site-packages/sklearn/metrics/classification.py:1437: UndefinedMetricWarning: F-score is ill-defined and being set to 0.0 due to no predicted samples.\n",
      "  'precision', 'predicted', average, warn_for)\n",
      "/miniconda3/lib/python3.7/site-packages/sklearn/metrics/classification.py:1437: UndefinedMetricWarning: F-score is ill-defined and being set to 0.0 due to no predicted samples.\n",
      "  'precision', 'predicted', average, warn_for)\n",
      "/miniconda3/lib/python3.7/site-packages/sklearn/metrics/classification.py:1437: UndefinedMetricWarning: F-score is ill-defined and being set to 0.0 due to no predicted samples.\n",
      "  'precision', 'predicted', average, warn_for)\n",
      "/miniconda3/lib/python3.7/site-packages/sklearn/metrics/classification.py:1437: UndefinedMetricWarning: F-score is ill-defined and being set to 0.0 due to no predicted samples.\n",
      "  'precision', 'predicted', average, warn_for)\n",
      "/miniconda3/lib/python3.7/site-packages/sklearn/metrics/classification.py:1437: UndefinedMetricWarning: F-score is ill-defined and being set to 0.0 due to no predicted samples.\n",
      "  'precision', 'predicted', average, warn_for)\n",
      "/miniconda3/lib/python3.7/site-packages/sklearn/metrics/classification.py:1437: UndefinedMetricWarning: F-score is ill-defined and being set to 0.0 due to no predicted samples.\n",
      "  'precision', 'predicted', average, warn_for)\n",
      "/miniconda3/lib/python3.7/site-packages/sklearn/metrics/classification.py:1437: UndefinedMetricWarning: F-score is ill-defined and being set to 0.0 due to no predicted samples.\n",
      "  'precision', 'predicted', average, warn_for)\n",
      "/miniconda3/lib/python3.7/site-packages/sklearn/metrics/classification.py:1437: UndefinedMetricWarning: F-score is ill-defined and being set to 0.0 due to no predicted samples.\n",
      "  'precision', 'predicted', average, warn_for)\n",
      "/miniconda3/lib/python3.7/site-packages/sklearn/metrics/classification.py:1437: UndefinedMetricWarning: F-score is ill-defined and being set to 0.0 due to no predicted samples.\n",
      "  'precision', 'predicted', average, warn_for)\n",
      "/miniconda3/lib/python3.7/site-packages/sklearn/metrics/classification.py:1437: UndefinedMetricWarning: F-score is ill-defined and being set to 0.0 due to no predicted samples.\n",
      "  'precision', 'predicted', average, warn_for)\n",
      "/miniconda3/lib/python3.7/site-packages/sklearn/metrics/classification.py:1437: UndefinedMetricWarning: F-score is ill-defined and being set to 0.0 due to no predicted samples.\n",
      "  'precision', 'predicted', average, warn_for)\n",
      "/miniconda3/lib/python3.7/site-packages/sklearn/metrics/classification.py:1437: UndefinedMetricWarning: F-score is ill-defined and being set to 0.0 due to no predicted samples.\n",
      "  'precision', 'predicted', average, warn_for)\n",
      "/miniconda3/lib/python3.7/site-packages/sklearn/metrics/classification.py:1437: UndefinedMetricWarning: F-score is ill-defined and being set to 0.0 due to no predicted samples.\n",
      "  'precision', 'predicted', average, warn_for)\n",
      "/miniconda3/lib/python3.7/site-packages/sklearn/metrics/classification.py:1437: UndefinedMetricWarning: F-score is ill-defined and being set to 0.0 due to no predicted samples.\n",
      "  'precision', 'predicted', average, warn_for)\n",
      "/miniconda3/lib/python3.7/site-packages/sklearn/metrics/classification.py:1437: UndefinedMetricWarning: F-score is ill-defined and being set to 0.0 due to no predicted samples.\n",
      "  'precision', 'predicted', average, warn_for)\n",
      "/miniconda3/lib/python3.7/site-packages/sklearn/metrics/classification.py:1437: UndefinedMetricWarning: F-score is ill-defined and being set to 0.0 due to no predicted samples.\n",
      "  'precision', 'predicted', average, warn_for)\n",
      "/miniconda3/lib/python3.7/site-packages/sklearn/metrics/classification.py:1437: UndefinedMetricWarning: F-score is ill-defined and being set to 0.0 due to no predicted samples.\n",
      "  'precision', 'predicted', average, warn_for)\n",
      "/miniconda3/lib/python3.7/site-packages/sklearn/metrics/classification.py:1437: UndefinedMetricWarning: F-score is ill-defined and being set to 0.0 due to no predicted samples.\n",
      "  'precision', 'predicted', average, warn_for)\n",
      "/miniconda3/lib/python3.7/site-packages/sklearn/metrics/classification.py:1437: UndefinedMetricWarning: F-score is ill-defined and being set to 0.0 due to no predicted samples.\n",
      "  'precision', 'predicted', average, warn_for)\n"
     ]
    }
   ],
   "source": [
    "# modeling using stratified K-fold cross validation, regularization and upsampling with SMOTE\n",
    "\n",
    "from sklearn.preprocessing import StandardScaler\n",
    "from sklearn.linear_model import LogisticRegression\n",
    "from imblearn.over_sampling import SMOTE\n",
    "from sklearn.model_selection import StratifiedKFold\n",
    "from sklearn import metrics\n",
    "import matplotlib.pyplot as plt\n",
    "import numpy as np  \n",
    "\n",
    "\n",
    "x = df_player_injury[['height', 'weight', 'G_position', 'F_position', 'C_position', \\\n",
    "                             'years_played_before_2010', 'age_at_2010', 'injury_10', \\\n",
    "                             'injury_11', 'injury_12', 'injury_13', 'injury_14', 'injury_15', \\\n",
    "                             'injury_16', 'injury_17', 'played_10', 'played_11', 'played_12', \\\n",
    "                             'played_13', 'played_14', 'played_15', 'played_16', \\\n",
    "                             'played_17', 'played_18']]\n",
    "\n",
    "df_player_injury['injury_18'] = df_player_injury.injury_18.apply(lambda x: 1 if x>0 else 0)\n",
    "\n",
    "y = df_player_injury['injury_18']\n",
    "\n",
    "# Normalizing the data \n",
    "scaler = StandardScaler()\n",
    "x = scaler.fit_transform(x)\n",
    "\n",
    "# K-fold stratified cross validation and upsampling the minority class\n",
    "\n",
    "skf = StratifiedKFold(n_splits=6, random_state=1)\n",
    "\n",
    "scores_per_tresh = []\n",
    "treshholds = [i*0.01 for i in range(101)] \n",
    "\n",
    "for tresh in treshholds:\n",
    "    \n",
    "    scores_per_split = []\n",
    "    \n",
    "    for train_index, test_index in skf.split(x, y):\n",
    "\n",
    "        x_train, x_test = x[train_index], x[test_index]\n",
    "        y_train, y_test = y[train_index], y[test_index]\n",
    "\n",
    "        sm = SMOTE(random_state=2, ratio=1.0)\n",
    "        x_train, y_train = sm.fit_sample(x_train, y_train)\n",
    "\n",
    "        # Training the model\n",
    "        model = LogisticRegression(solver = 'lbfgs')\n",
    "        model.fit(x_train, y_train)\n",
    "\n",
    "        # predicting the class of the test set datapoints \n",
    "        probabilities = model.predict_proba(x_test)\n",
    "        y_predict = []\n",
    "        for j in range(len(x_test)):\n",
    "            if probabilities[j][1] > tresh:\n",
    "                y_predict.append(1)\n",
    "            else:\n",
    "                y_predict.append(0)\n",
    "\n",
    "        scores_per_split.append(metrics.f1_score(y_test, y_predict))\n",
    "    \n",
    "    scores_per_tresh.append(np.mean(scores_per_split))"
   ]
  },
  {
   "cell_type": "code",
   "execution_count": 49,
   "metadata": {},
   "outputs": [],
   "source": [
    "# compting f-1 score of random guessing\n",
    "\n",
    "import random\n",
    "\n",
    "guess_scores_per_split = []\n",
    "\n",
    "for train_index, test_index in skf.split(x, y):\n",
    "\n",
    "    y_test = y[test_index]\n",
    "         \n",
    "    n_guess_trial = 1000\n",
    "    guess_score = 0\n",
    "    for i in range(n_guess_trial):\n",
    "        y_guess = []        \n",
    "        for j in range(len(y_test)):\n",
    "            if random.uniform(0, 1) > 0.5:\n",
    "                y_guess.append(1)\n",
    "            else:\n",
    "                y_guess.append(0)\n",
    "        guess_score += metrics.f1_score(y_test, y_guess)\n",
    "    guess_score = guess_score/n_guess_trial\n",
    "\n",
    "    guess_scores_per_split.append(guess_score)\n",
    "\n",
    "guess_score = np.mean(guess_scores_per_split)    "
   ]
  },
  {
   "cell_type": "code",
   "execution_count": 50,
   "metadata": {},
   "outputs": [
    {
     "data": {
      "text/plain": [
       "Text(0.5, 1.0, 'Model Performance')"
      ]
     },
     "execution_count": 50,
     "metadata": {},
     "output_type": "execute_result"
    },
    {
     "data": {
      "image/png": "[encoded data removed]",
      "text/plain": [
       "<Figure size 432x288 with 1 Axes>"
      ]
     },
     "metadata": {
      "needs_background": "light"
     },
     "output_type": "display_data"
    }
   ],
   "source": [
    "# visualizing the model performance \n",
    "\n",
    "plt.plot(treshholds, scores_per_tresh, color = 'red')\n",
    "plt.plot(treshholds, [guess_score for i in range(len(treshholds))], color = 'blue')\n",
    "labels = ['Logistic Regression', 'Random Guess']\n",
    "plt.rcParams.update({'font.size': 15})\n",
    "plt.legend(labels) \n",
    "plt.xlabel('Treshhold')\n",
    "plt.ylabel('F-1 Score')\n",
    "plt.title('Model Performance')"
   ]
  }
 ],
 "metadata": {
  "kernelspec": {
   "display_name": "Python 3",
   "language": "python",
   "name": "python3"
  },
  "language_info": {
   "codemirror_mode": {
    "name": "ipython",
    "version": 3
   },
   "file_extension": ".py",
   "mimetype": "text/x-python",
   "name": "python",
   "nbconvert_exporter": "python",
   "pygments_lexer": "ipython3",
   "version": "3.7.6"
  }
 },
 "nbformat": 4,
 "nbformat_minor": 2
}
